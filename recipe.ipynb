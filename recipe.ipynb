{
 "cells": [
  {
   "cell_type": "markdown",
   "metadata": {},
   "source": [
    "# Tokenize Wei-Wei's data"
   ]
  },
  {
   "cell_type": "code",
   "execution_count": 57,
   "metadata": {},
   "outputs": [],
   "source": [
    "from segments.tokenizer import Tokenizer"
   ]
  },
  {
   "cell_type": "code",
   "execution_count": 58,
   "metadata": {},
   "outputs": [],
   "source": [
    "# Test data\n",
    "file = open('test.txt', 'r')"
   ]
  },
  {
   "cell_type": "code",
   "execution_count": 59,
   "metadata": {},
   "outputs": [
    {
     "name": "stderr",
     "output_type": "stream",
     "text": [
      "WARNING:segments.profile:line 24:duplicate grapheme in profile: န့်\n",
      "WARNING:segments.profile:line 50:duplicate grapheme in profile: ာ\n",
      "WARNING:segments.profile:line 51:duplicate grapheme in profile: ါ\n",
      "WARNING:segments.profile:line 73:duplicate grapheme in profile: ဲ့\n"
     ]
    }
   ],
   "source": [
    "t = Tokenizer(\"test_op.tsv\")"
   ]
  },
  {
   "cell_type": "code",
   "execution_count": 60,
   "metadata": {},
   "outputs": [
    {
     "name": "stdout",
     "output_type": "stream",
     "text": [
      "MAT 1\n",
      "� � �   �\n",
      "\n",
      "1 အာနီ မုး ဇာရာင် ဂေ ဂုန့် ဒါ ဒါ ဇဝ် ယေဆူ အီ မုး လှုက်လှာန် ခုန်ဒီခမ် အာဒါဝိတ် တွိုန်. ခုန်ဒီခမ် အာဒါဝိတ် ယီ မုး လှုက်လှာန် အာဘြာဟမ်.\n",
      "� � ʔ a n i   m ou h   ɟ a r a k   g ʌi   g ou ŋ   d aː   d aː   ɟ aɔ   j ʌi s u   ʔ i   m ou h   hl ou k � hl a n   kʰ ou n d i kʰ m   ʔ a d aː ʋ it   t ʌ n �   kʰ ou n d i kʰ m   ʔ a d aː ʋ it   j i   m ou h   hl ou k � hl a n   ʔ a b r a h m �\n",
      "\n"
     ]
    }
   ],
   "source": [
    "for line in file:\n",
    "    line = line.strip()\n",
    "    print(line)\n",
    "    print(\" \".join(t.transform(line, column=\"IPA\")))\n",
    "    print()"
   ]
  },
  {
   "cell_type": "code",
   "execution_count": null,
   "metadata": {},
   "outputs": [],
   "source": []
  }
 ],
 "metadata": {
  "kernelspec": {
   "display_name": "Python 3",
   "language": "python",
   "name": "python3"
  }
 },
 "nbformat": 4,
 "nbformat_minor": 2
}
