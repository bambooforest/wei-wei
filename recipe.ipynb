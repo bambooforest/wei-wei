{
 "cells": [
  {
   "cell_type": "markdown",
   "metadata": {},
   "source": [
    "# Tokenize Wei-Wei's data"
   ]
  },
  {
   "cell_type": "code",
   "execution_count": 4,
   "metadata": {},
   "outputs": [],
   "source": [
    "from segments.tokenizer import Tokenizer"
   ]
  },
  {
   "cell_type": "code",
   "execution_count": 5,
   "metadata": {},
   "outputs": [],
   "source": [
    "# Test data\n",
    "file = open('test.txt', 'r')"
   ]
  },
  {
   "cell_type": "code",
   "execution_count": 6,
   "metadata": {},
   "outputs": [
    {
     "name": "stderr",
     "output_type": "stream",
     "text": [
      "WARNING:segments.profile:line 35:duplicate grapheme in profile: ုဝ်\n",
      "WARNING:segments.profile:line 47:duplicate grapheme in profile: ဲ့\n",
      "WARNING:segments.profile:line 57:duplicate grapheme in profile: ု\n",
      "WARNING:segments.profile:line 60:duplicate grapheme in profile: ေ\n",
      "WARNING:segments.profile:line 61:duplicate grapheme in profile: ူ\n",
      "WARNING:segments.profile:line 63:duplicate grapheme in profile: ဲ\n",
      "WARNING:segments.profile:line 65:duplicate grapheme in profile: ာ\n",
      "WARNING:segments.profile:line 67:duplicate grapheme in profile: ာ\n",
      "WARNING:segments.profile:line 68:duplicate grapheme in profile: ါ\n",
      "WARNING:segments.profile:line 70:duplicate grapheme in profile: ွ\n",
      "WARNING:segments.profile:line 71:duplicate grapheme in profile: ွ\n",
      "WARNING:segments.profile:line 72:duplicate grapheme in profile: ွ\n",
      "WARNING:segments.profile:line 76:duplicate grapheme in profile: န်\n",
      "WARNING:segments.profile:line 78:duplicate grapheme in profile: န့်\n",
      "WARNING:segments.profile:line 80:duplicate grapheme in profile: မ်\n"
     ]
    }
   ],
   "source": [
    "t = Tokenizer(\"pce_orth_profile2.tsv\")"
   ]
  },
  {
   "cell_type": "code",
   "execution_count": 7,
   "metadata": {},
   "outputs": [
    {
     "name": "stdout",
     "output_type": "stream",
     "text": [
      "MAT 1\n",
      "� � �   1\n",
      "\n",
      "1 အာနီ မုး ဇာရာင် ဂေ ဂုန့် ဒါ ဒါ ဇဝ် ယေဆူ အီ မုး လှုက်လှာန် ခုန်ဒီခမ် အာဒါဝိတ် တွိုန်. ခုန်ဒီခမ် အာဒါဝိတ် ယီ မုး လှုက်လှာန် အာဘြာဟမ်.\n",
      "1 � ʔ a n i   m ou h   ɟ a r a k   g ʌi   g ou ŋ   d aː   d aː   ɟ aɔ   j ʌi s u   ʔ i   m ou h   hl ou k hl a n   kʰ ou n d i kʰ m   ʔ a d aː ʋ it   t ʌ n .   kʰ ou n d i kʰ m   ʔ a d aː ʋ it   j i   m ou h   hl ou k hl a n   ʔ a b r a h m .\n",
      "\n"
     ]
    }
   ],
   "source": [
    "for line in file:\n",
    "    line = line.strip()\n",
    "    print(line)\n",
    "    print(\" \".join(t.transform(line, column=\"IPA\")))\n",
    "    print()"
   ]
  },
  {
   "cell_type": "code",
   "execution_count": null,
   "metadata": {},
   "outputs": [],
   "source": []
  }
 ],
 "metadata": {
  "kernelspec": {
   "display_name": "Python 3",
   "language": "python",
   "name": "python3"
  },
  "language_info": {
   "codemirror_mode": {
    "name": "ipython",
    "version": 3
   },
   "file_extension": ".py",
   "mimetype": "text/x-python",
   "name": "python",
   "nbconvert_exporter": "python",
   "pygments_lexer": "ipython3",
   "version": "3.6.5"
  }
 },
 "nbformat": 4,
 "nbformat_minor": 2
}
